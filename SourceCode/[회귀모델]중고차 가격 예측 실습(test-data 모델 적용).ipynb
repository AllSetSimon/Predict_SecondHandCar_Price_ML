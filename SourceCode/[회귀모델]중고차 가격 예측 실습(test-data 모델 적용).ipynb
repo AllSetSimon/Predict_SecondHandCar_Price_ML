{
 "cells": [
  {
   "cell_type": "code",
   "execution_count": 1,
   "metadata": {},
   "outputs": [],
   "source": [
    "import numpy as np\n",
    "import pandas as pd\n",
    "import matplotlib.pyplot as plt\n",
    "import seaborn as sns\n",
    "from sklearn.preprocessing import LabelEncoder\n",
    "from sklearn.model_selection import train_test_split\n",
    "from sklearn.linear_model import LinearRegression\n",
    "from sklearn.metrics import accuracy_score,confusion_matrix,r2_score\n",
    "from sklearn.metrics import mean_absolute_error\n",
    "from sklearn import preprocessing"
   ]
  },
  {
   "cell_type": "code",
   "execution_count": 2,
   "metadata": {},
   "outputs": [],
   "source": [
    "def data_preproc(dummy_data):\n",
    "    clean_data = dummy_data.copy(deep = True)\n",
    "    clean_data.drop(columns=['Unnamed: 0','New_Price'], inplace=True)\n",
    "    clean_data.dropna('index',inplace=True)\n",
    "    clean_data = clean_data.reset_index(drop=True)\n",
    "    clean_data.shape\n",
    "    \n",
    "    names = list(clean_data.Name)    \n",
    "    for i in range(len(names)):\n",
    "        names[i]=names[i].split(' ',1)[0]\n",
    "        clean_data.Name = names\n",
    "        clean_data.head()\n",
    "        \n",
    "    mileage = list(clean_data.Mileage)\n",
    "    engine = list(clean_data.Engine)\n",
    "    power = list(clean_data.Power)\n",
    "    for i in range(len(names)):\n",
    "        mileage[i] = mileage[i].split(' ',1)[0]\n",
    "        engine[i] = engine[i].split(' ',1)[0]\n",
    "        power[i] = power[i].split(' ',1)[0] \n",
    "    clean_data.Mileage = mileage\n",
    "    clean_data.Engine = engine\n",
    "    clean_data.Power = power\n",
    "    \n",
    "    clean_data[\"Kilometers_Driven\"] = clean_data[\"Kilometers_Driven\"].astype(float)\n",
    "    clean_data[\"Mileage\"] = clean_data[\"Mileage\"].astype(float)\n",
    "    clean_data[\"Engine\"] = clean_data[\"Engine\"].astype(float)\n",
    "    \n",
    "    clean_data = clean_data[clean_data.Seats != 0]\n",
    "    \n",
    "    idx = []\n",
    "    lt = list(clean_data['Power'])\n",
    "    for i in range(len(lt)):\n",
    "        if(lt[i] == 'null'):\n",
    "            idx.append(i)\n",
    "    clean_data = clean_data.drop(idx)\n",
    "    clean_data = clean_data.reset_index(drop=True)\n",
    "    \n",
    "    clean_data = clean_data[clean_data.Seats != 0]\n",
    "    \n",
    "    idx = []\n",
    "    lt = list(clean_data['Power'])\n",
    "    for i in range(len(lt)):\n",
    "        if(lt[i] == 'null'):\n",
    "            idx.append(i)\n",
    "    clean_data = clean_data.drop(idx)\n",
    "    clean_data = clean_data.reset_index(drop=True)\n",
    "\n",
    "    clean_data['Power'] = clean_data['Power'].astype(float)\n",
    "    \n",
    "    clean_data['Year'] = pd.Categorical(clean_data['Year'])\n",
    "    clean_data['Seats'] = pd.Categorical(clean_data['Seats'])\n",
    "    clean_data = pd.get_dummies(clean_data, prefix_sep='_', drop_first=True) #문자를 숫자로 바꾸어 One-hot-encoding\n",
    "\n",
    "    return clean_data"
   ]
  },
  {
   "cell_type": "code",
   "execution_count": 3,
   "metadata": {},
   "outputs": [],
   "source": [
    "def makex(clean_data):\n",
    "    x = clean_data.values \n",
    "    columns = clean_data.columns # 리스트값으로 열 레이블 반환\n",
    "    #X값만\n",
    "    scaler = preprocessing.MinMaxScaler() #최소 최대을 구함\n",
    "    tmp = scaler.fit_transform(x) \n",
    "    clean_data = pd.DataFrame(tmp)\n",
    "    clean_data.columns = columns\n",
    "    x = clean_data.to_numpy()\n",
    "    return x"
   ]
  },
  {
   "cell_type": "code",
   "execution_count": 4,
   "metadata": {},
   "outputs": [],
   "source": [
    "dummy_train_data = pd.read_csv('./train-data.csv')\n",
    "dummy_test_data = pd.read_csv('./test-data.csv')"
   ]
  },
  {
   "cell_type": "code",
   "execution_count": 5,
   "metadata": {},
   "outputs": [
    {
     "name": "stdout",
     "output_type": "stream",
     "text": [
      "<class 'pandas.core.frame.DataFrame'>\n",
      "RangeIndex: 5844 entries, 0 to 5843\n",
      "Data columns (total 79 columns):\n",
      " #   Column                     Non-Null Count  Dtype  \n",
      "---  ------                     --------------  -----  \n",
      " 0   Kilometers_Driven          5844 non-null   float64\n",
      " 1   Mileage                    5844 non-null   float64\n",
      " 2   Engine                     5844 non-null   float64\n",
      " 3   Power                      5844 non-null   float64\n",
      " 4   Price                      5844 non-null   float64\n",
      " 5   Name_Audi                  5844 non-null   uint8  \n",
      " 6   Name_BMW                   5844 non-null   uint8  \n",
      " 7   Name_Bentley               5844 non-null   uint8  \n",
      " 8   Name_Chevrolet             5844 non-null   uint8  \n",
      " 9   Name_Datsun                5844 non-null   uint8  \n",
      " 10  Name_Fiat                  5844 non-null   uint8  \n",
      " 11  Name_Force                 5844 non-null   uint8  \n",
      " 12  Name_Ford                  5844 non-null   uint8  \n",
      " 13  Name_Honda                 5844 non-null   uint8  \n",
      " 14  Name_Hyundai               5844 non-null   uint8  \n",
      " 15  Name_ISUZU                 5844 non-null   uint8  \n",
      " 16  Name_Isuzu                 5844 non-null   uint8  \n",
      " 17  Name_Jaguar                5844 non-null   uint8  \n",
      " 18  Name_Jeep                  5844 non-null   uint8  \n",
      " 19  Name_Lamborghini           5844 non-null   uint8  \n",
      " 20  Name_Land                  5844 non-null   uint8  \n",
      " 21  Name_Mahindra              5844 non-null   uint8  \n",
      " 22  Name_Maruti                5844 non-null   uint8  \n",
      " 23  Name_Mercedes-Benz         5844 non-null   uint8  \n",
      " 24  Name_Mini                  5844 non-null   uint8  \n",
      " 25  Name_Mitsubishi            5844 non-null   uint8  \n",
      " 26  Name_Nissan                5844 non-null   uint8  \n",
      " 27  Name_Porsche               5844 non-null   uint8  \n",
      " 28  Name_Renault               5844 non-null   uint8  \n",
      " 29  Name_Skoda                 5844 non-null   uint8  \n",
      " 30  Name_Tata                  5844 non-null   uint8  \n",
      " 31  Name_Toyota                5844 non-null   uint8  \n",
      " 32  Name_Volkswagen            5844 non-null   uint8  \n",
      " 33  Name_Volvo                 5844 non-null   uint8  \n",
      " 34  Location_Bangalore         5844 non-null   uint8  \n",
      " 35  Location_Chennai           5844 non-null   uint8  \n",
      " 36  Location_Coimbatore        5844 non-null   uint8  \n",
      " 37  Location_Delhi             5844 non-null   uint8  \n",
      " 38  Location_Hyderabad         5844 non-null   uint8  \n",
      " 39  Location_Jaipur            5844 non-null   uint8  \n",
      " 40  Location_Kochi             5844 non-null   uint8  \n",
      " 41  Location_Kolkata           5844 non-null   uint8  \n",
      " 42  Location_Mumbai            5844 non-null   uint8  \n",
      " 43  Location_Pune              5844 non-null   uint8  \n",
      " 44  Year_1999                  5844 non-null   uint8  \n",
      " 45  Year_2000                  5844 non-null   uint8  \n",
      " 46  Year_2001                  5844 non-null   uint8  \n",
      " 47  Year_2002                  5844 non-null   uint8  \n",
      " 48  Year_2003                  5844 non-null   uint8  \n",
      " 49  Year_2004                  5844 non-null   uint8  \n",
      " 50  Year_2005                  5844 non-null   uint8  \n",
      " 51  Year_2006                  5844 non-null   uint8  \n",
      " 52  Year_2007                  5844 non-null   uint8  \n",
      " 53  Year_2008                  5844 non-null   uint8  \n",
      " 54  Year_2009                  5844 non-null   uint8  \n",
      " 55  Year_2010                  5844 non-null   uint8  \n",
      " 56  Year_2011                  5844 non-null   uint8  \n",
      " 57  Year_2012                  5844 non-null   uint8  \n",
      " 58  Year_2013                  5844 non-null   uint8  \n",
      " 59  Year_2014                  5844 non-null   uint8  \n",
      " 60  Year_2015                  5844 non-null   uint8  \n",
      " 61  Year_2016                  5844 non-null   uint8  \n",
      " 62  Year_2017                  5844 non-null   uint8  \n",
      " 63  Year_2018                  5844 non-null   uint8  \n",
      " 64  Year_2019                  5844 non-null   uint8  \n",
      " 65  Fuel_Type_Diesel           5844 non-null   uint8  \n",
      " 66  Fuel_Type_LPG              5844 non-null   uint8  \n",
      " 67  Fuel_Type_Petrol           5844 non-null   uint8  \n",
      " 68  Transmission_Manual        5844 non-null   uint8  \n",
      " 69  Owner_Type_Fourth & Above  5844 non-null   uint8  \n",
      " 70  Owner_Type_Second          5844 non-null   uint8  \n",
      " 71  Owner_Type_Third           5844 non-null   uint8  \n",
      " 72  Seats_4.0                  5844 non-null   uint8  \n",
      " 73  Seats_5.0                  5844 non-null   uint8  \n",
      " 74  Seats_6.0                  5844 non-null   uint8  \n",
      " 75  Seats_7.0                  5844 non-null   uint8  \n",
      " 76  Seats_8.0                  5844 non-null   uint8  \n",
      " 77  Seats_9.0                  5844 non-null   uint8  \n",
      " 78  Seats_10.0                 5844 non-null   uint8  \n",
      "dtypes: float64(5), uint8(74)\n",
      "memory usage: 650.7 KB\n",
      "None\n",
      "<class 'pandas.core.frame.DataFrame'>\n",
      "RangeIndex: 1201 entries, 0 to 1200\n",
      "Data columns (total 72 columns):\n",
      " #   Column                     Non-Null Count  Dtype  \n",
      "---  ------                     --------------  -----  \n",
      " 0   Kilometers_Driven          1201 non-null   float64\n",
      " 1   Mileage                    1201 non-null   float64\n",
      " 2   Engine                     1201 non-null   float64\n",
      " 3   Power                      1201 non-null   float64\n",
      " 4   Name_BMW                   1201 non-null   uint8  \n",
      " 5   Name_Bentley               1201 non-null   uint8  \n",
      " 6   Name_Chevrolet             1201 non-null   uint8  \n",
      " 7   Name_Datsun                1201 non-null   uint8  \n",
      " 8   Name_Fiat                  1201 non-null   uint8  \n",
      " 9   Name_Ford                  1201 non-null   uint8  \n",
      " 10  Name_Honda                 1201 non-null   uint8  \n",
      " 11  Name_Hyundai               1201 non-null   uint8  \n",
      " 12  Name_ISUZU                 1201 non-null   uint8  \n",
      " 13  Name_Isuzu                 1201 non-null   uint8  \n",
      " 14  Name_Jaguar                1201 non-null   uint8  \n",
      " 15  Name_Jeep                  1201 non-null   uint8  \n",
      " 16  Name_Land                  1201 non-null   uint8  \n",
      " 17  Name_Mahindra              1201 non-null   uint8  \n",
      " 18  Name_Maruti                1201 non-null   uint8  \n",
      " 19  Name_Mercedes-Benz         1201 non-null   uint8  \n",
      " 20  Name_Mini                  1201 non-null   uint8  \n",
      " 21  Name_Mitsubishi            1201 non-null   uint8  \n",
      " 22  Name_Nissan                1201 non-null   uint8  \n",
      " 23  Name_OpelCorsa             1201 non-null   uint8  \n",
      " 24  Name_Porsche               1201 non-null   uint8  \n",
      " 25  Name_Renault               1201 non-null   uint8  \n",
      " 26  Name_Skoda                 1201 non-null   uint8  \n",
      " 27  Name_Tata                  1201 non-null   uint8  \n",
      " 28  Name_Toyota                1201 non-null   uint8  \n",
      " 29  Name_Volkswagen            1201 non-null   uint8  \n",
      " 30  Name_Volvo                 1201 non-null   uint8  \n",
      " 31  Location_Bangalore         1201 non-null   uint8  \n",
      " 32  Location_Chennai           1201 non-null   uint8  \n",
      " 33  Location_Coimbatore        1201 non-null   uint8  \n",
      " 34  Location_Delhi             1201 non-null   uint8  \n",
      " 35  Location_Hyderabad         1201 non-null   uint8  \n",
      " 36  Location_Jaipur            1201 non-null   uint8  \n",
      " 37  Location_Kochi             1201 non-null   uint8  \n",
      " 38  Location_Kolkata           1201 non-null   uint8  \n",
      " 39  Location_Mumbai            1201 non-null   uint8  \n",
      " 40  Location_Pune              1201 non-null   uint8  \n",
      " 41  Year_2002                  1201 non-null   uint8  \n",
      " 42  Year_2003                  1201 non-null   uint8  \n",
      " 43  Year_2004                  1201 non-null   uint8  \n",
      " 44  Year_2005                  1201 non-null   uint8  \n",
      " 45  Year_2006                  1201 non-null   uint8  \n",
      " 46  Year_2007                  1201 non-null   uint8  \n",
      " 47  Year_2008                  1201 non-null   uint8  \n",
      " 48  Year_2009                  1201 non-null   uint8  \n",
      " 49  Year_2010                  1201 non-null   uint8  \n",
      " 50  Year_2011                  1201 non-null   uint8  \n",
      " 51  Year_2012                  1201 non-null   uint8  \n",
      " 52  Year_2013                  1201 non-null   uint8  \n",
      " 53  Year_2014                  1201 non-null   uint8  \n",
      " 54  Year_2015                  1201 non-null   uint8  \n",
      " 55  Year_2016                  1201 non-null   uint8  \n",
      " 56  Year_2017                  1201 non-null   uint8  \n",
      " 57  Year_2018                  1201 non-null   uint8  \n",
      " 58  Year_2019                  1201 non-null   uint8  \n",
      " 59  Fuel_Type_Diesel           1201 non-null   uint8  \n",
      " 60  Fuel_Type_LPG              1201 non-null   uint8  \n",
      " 61  Fuel_Type_Petrol           1201 non-null   uint8  \n",
      " 62  Transmission_Manual        1201 non-null   uint8  \n",
      " 63  Owner_Type_Fourth & Above  1201 non-null   uint8  \n",
      " 64  Owner_Type_Second          1201 non-null   uint8  \n",
      " 65  Owner_Type_Third           1201 non-null   uint8  \n",
      " 66  Seats_4.0                  1201 non-null   uint8  \n",
      " 67  Seats_5.0                  1201 non-null   uint8  \n",
      " 68  Seats_6.0                  1201 non-null   uint8  \n",
      " 69  Seats_7.0                  1201 non-null   uint8  \n",
      " 70  Seats_8.0                  1201 non-null   uint8  \n",
      " 71  Seats_10.0                 1201 non-null   uint8  \n",
      "dtypes: float64(4), uint8(68)\n",
      "memory usage: 117.4 KB\n",
      "None\n"
     ]
    }
   ],
   "source": [
    "clean_train_data = data_preproc(dummy_train_data)\n",
    "clean_test_data = data_preproc(dummy_test_data)\n",
    "print(clean_train_data.info())\n",
    "print(clean_test_data.info())"
   ]
  },
  {
   "cell_type": "code",
   "execution_count": 6,
   "metadata": {},
   "outputs": [
    {
     "name": "stdout",
     "output_type": "stream",
     "text": [
      "[[ 1.75]\n",
      " [12.5 ]\n",
      " [ 4.5 ]\n",
      " ...\n",
      " [ 2.9 ]\n",
      " [ 2.65]\n",
      " [ 2.5 ]]\n"
     ]
    }
   ],
   "source": [
    "#train 데이터 형성\n",
    "y = clean_train_data[['Price']].to_numpy() #ndarray 형태로 변경\n",
    "print(y)\n",
    "clean_train_data = clean_train_data.drop(columns=['Price'])"
   ]
  },
  {
   "cell_type": "code",
   "execution_count": 7,
   "metadata": {},
   "outputs": [],
   "source": [
    "train_x = makex(clean_train_data)\n",
    "test_x = makex(clean_test_data)"
   ]
  },
  {
   "cell_type": "code",
   "execution_count": 8,
   "metadata": {},
   "outputs": [
    {
     "data": {
      "text/plain": [
       "LinearRegression(normalize=True)"
      ]
     },
     "execution_count": 8,
     "metadata": {},
     "output_type": "execute_result"
    }
   ],
   "source": [
    "# 모델링 하기 = 다중선형회귀 사용\n",
    "lr = LinearRegression(fit_intercept=True,normalize=True,copy_X=True)\n",
    "lr.fit(train_x,y)"
   ]
  },
  {
   "cell_type": "code",
   "execution_count": 9,
   "metadata": {},
   "outputs": [
    {
     "name": "stdout",
     "output_type": "stream",
     "text": [
      "0.8069472191841415\n"
     ]
    }
   ],
   "source": [
    "print(lr.score(train_x,y)) #성능치 표현 (0~1) 높아지면 좋은 것!"
   ]
  },
  {
   "cell_type": "code",
   "execution_count": 10,
   "metadata": {},
   "outputs": [
    {
     "ename": "ValueError",
     "evalue": "matmul: Input operand 1 has a mismatch in its core dimension 0, with gufunc signature (n?,k),(k,m?)->(n?,m?) (size 78 is different from 72)",
     "output_type": "error",
     "traceback": [
      "\u001b[1;31m---------------------------------------------------------------------------\u001b[0m",
      "\u001b[1;31mValueError\u001b[0m                                Traceback (most recent call last)",
      "\u001b[1;32m<ipython-input-10-790324817bf1>\u001b[0m in \u001b[0;36m<module>\u001b[1;34m\u001b[0m\n\u001b[1;32m----> 1\u001b[1;33m \u001b[0my_predict\u001b[0m \u001b[1;33m=\u001b[0m \u001b[0mlr\u001b[0m\u001b[1;33m.\u001b[0m\u001b[0mpredict\u001b[0m\u001b[1;33m(\u001b[0m\u001b[0mtest_x\u001b[0m\u001b[1;33m)\u001b[0m\u001b[1;33m\u001b[0m\u001b[1;33m\u001b[0m\u001b[0m\n\u001b[0m",
      "\u001b[1;32m~\\anaconda3\\envs\\mlclass\\lib\\site-packages\\sklearn\\linear_model\\_base.py\u001b[0m in \u001b[0;36mpredict\u001b[1;34m(self, X)\u001b[0m\n\u001b[0;32m    234\u001b[0m             \u001b[0mReturns\u001b[0m \u001b[0mpredicted\u001b[0m \u001b[0mvalues\u001b[0m\u001b[1;33m.\u001b[0m\u001b[1;33m\u001b[0m\u001b[1;33m\u001b[0m\u001b[0m\n\u001b[0;32m    235\u001b[0m         \"\"\"\n\u001b[1;32m--> 236\u001b[1;33m         \u001b[1;32mreturn\u001b[0m \u001b[0mself\u001b[0m\u001b[1;33m.\u001b[0m\u001b[0m_decision_function\u001b[0m\u001b[1;33m(\u001b[0m\u001b[0mX\u001b[0m\u001b[1;33m)\u001b[0m\u001b[1;33m\u001b[0m\u001b[1;33m\u001b[0m\u001b[0m\n\u001b[0m\u001b[0;32m    237\u001b[0m \u001b[1;33m\u001b[0m\u001b[0m\n\u001b[0;32m    238\u001b[0m     \u001b[0m_preprocess_data\u001b[0m \u001b[1;33m=\u001b[0m \u001b[0mstaticmethod\u001b[0m\u001b[1;33m(\u001b[0m\u001b[0m_preprocess_data\u001b[0m\u001b[1;33m)\u001b[0m\u001b[1;33m\u001b[0m\u001b[1;33m\u001b[0m\u001b[0m\n",
      "\u001b[1;32m~\\anaconda3\\envs\\mlclass\\lib\\site-packages\\sklearn\\linear_model\\_base.py\u001b[0m in \u001b[0;36m_decision_function\u001b[1;34m(self, X)\u001b[0m\n\u001b[0;32m    217\u001b[0m \u001b[1;33m\u001b[0m\u001b[0m\n\u001b[0;32m    218\u001b[0m         \u001b[0mX\u001b[0m \u001b[1;33m=\u001b[0m \u001b[0mcheck_array\u001b[0m\u001b[1;33m(\u001b[0m\u001b[0mX\u001b[0m\u001b[1;33m,\u001b[0m \u001b[0maccept_sparse\u001b[0m\u001b[1;33m=\u001b[0m\u001b[1;33m[\u001b[0m\u001b[1;34m'csr'\u001b[0m\u001b[1;33m,\u001b[0m \u001b[1;34m'csc'\u001b[0m\u001b[1;33m,\u001b[0m \u001b[1;34m'coo'\u001b[0m\u001b[1;33m]\u001b[0m\u001b[1;33m)\u001b[0m\u001b[1;33m\u001b[0m\u001b[1;33m\u001b[0m\u001b[0m\n\u001b[1;32m--> 219\u001b[1;33m         return safe_sparse_dot(X, self.coef_.T,\n\u001b[0m\u001b[0;32m    220\u001b[0m                                dense_output=True) + self.intercept_\n\u001b[0;32m    221\u001b[0m \u001b[1;33m\u001b[0m\u001b[0m\n",
      "\u001b[1;32m~\\anaconda3\\envs\\mlclass\\lib\\site-packages\\sklearn\\utils\\validation.py\u001b[0m in \u001b[0;36minner_f\u001b[1;34m(*args, **kwargs)\u001b[0m\n\u001b[0;32m     70\u001b[0m                           FutureWarning)\n\u001b[0;32m     71\u001b[0m         \u001b[0mkwargs\u001b[0m\u001b[1;33m.\u001b[0m\u001b[0mupdate\u001b[0m\u001b[1;33m(\u001b[0m\u001b[1;33m{\u001b[0m\u001b[0mk\u001b[0m\u001b[1;33m:\u001b[0m \u001b[0marg\u001b[0m \u001b[1;32mfor\u001b[0m \u001b[0mk\u001b[0m\u001b[1;33m,\u001b[0m \u001b[0marg\u001b[0m \u001b[1;32min\u001b[0m \u001b[0mzip\u001b[0m\u001b[1;33m(\u001b[0m\u001b[0msig\u001b[0m\u001b[1;33m.\u001b[0m\u001b[0mparameters\u001b[0m\u001b[1;33m,\u001b[0m \u001b[0margs\u001b[0m\u001b[1;33m)\u001b[0m\u001b[1;33m}\u001b[0m\u001b[1;33m)\u001b[0m\u001b[1;33m\u001b[0m\u001b[1;33m\u001b[0m\u001b[0m\n\u001b[1;32m---> 72\u001b[1;33m         \u001b[1;32mreturn\u001b[0m \u001b[0mf\u001b[0m\u001b[1;33m(\u001b[0m\u001b[1;33m**\u001b[0m\u001b[0mkwargs\u001b[0m\u001b[1;33m)\u001b[0m\u001b[1;33m\u001b[0m\u001b[1;33m\u001b[0m\u001b[0m\n\u001b[0m\u001b[0;32m     73\u001b[0m     \u001b[1;32mreturn\u001b[0m \u001b[0minner_f\u001b[0m\u001b[1;33m\u001b[0m\u001b[1;33m\u001b[0m\u001b[0m\n\u001b[0;32m     74\u001b[0m \u001b[1;33m\u001b[0m\u001b[0m\n",
      "\u001b[1;32m~\\anaconda3\\envs\\mlclass\\lib\\site-packages\\sklearn\\utils\\extmath.py\u001b[0m in \u001b[0;36msafe_sparse_dot\u001b[1;34m(a, b, dense_output)\u001b[0m\n\u001b[0;32m    151\u001b[0m             \u001b[0mret\u001b[0m \u001b[1;33m=\u001b[0m \u001b[0mnp\u001b[0m\u001b[1;33m.\u001b[0m\u001b[0mdot\u001b[0m\u001b[1;33m(\u001b[0m\u001b[0ma\u001b[0m\u001b[1;33m,\u001b[0m \u001b[0mb\u001b[0m\u001b[1;33m)\u001b[0m\u001b[1;33m\u001b[0m\u001b[1;33m\u001b[0m\u001b[0m\n\u001b[0;32m    152\u001b[0m     \u001b[1;32melse\u001b[0m\u001b[1;33m:\u001b[0m\u001b[1;33m\u001b[0m\u001b[1;33m\u001b[0m\u001b[0m\n\u001b[1;32m--> 153\u001b[1;33m         \u001b[0mret\u001b[0m \u001b[1;33m=\u001b[0m \u001b[0ma\u001b[0m \u001b[1;33m@\u001b[0m \u001b[0mb\u001b[0m\u001b[1;33m\u001b[0m\u001b[1;33m\u001b[0m\u001b[0m\n\u001b[0m\u001b[0;32m    154\u001b[0m \u001b[1;33m\u001b[0m\u001b[0m\n\u001b[0;32m    155\u001b[0m     if (sparse.issparse(a) and sparse.issparse(b)\n",
      "\u001b[1;31mValueError\u001b[0m: matmul: Input operand 1 has a mismatch in its core dimension 0, with gufunc signature (n?,k),(k,m?)->(n?,m?) (size 78 is different from 72)"
     ]
    }
   ],
   "source": [
    "y_predict = lr.predict(test_x)"
   ]
  }
 ],
 "metadata": {
  "kernelspec": {
   "display_name": "Python 3",
   "language": "python",
   "name": "python3"
  },
  "language_info": {
   "codemirror_mode": {
    "name": "ipython",
    "version": 3
   },
   "file_extension": ".py",
   "mimetype": "text/x-python",
   "name": "python",
   "nbconvert_exporter": "python",
   "pygments_lexer": "ipython3",
   "version": "3.8.5"
  }
 },
 "nbformat": 4,
 "nbformat_minor": 4
}
